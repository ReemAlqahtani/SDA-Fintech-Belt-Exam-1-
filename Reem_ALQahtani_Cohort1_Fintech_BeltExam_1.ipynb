{
 "cells": [
  {
   "cell_type": "code",
   "execution_count": 106,
   "id": "b4773fac-538d-4bf9-8232-33a79a1c799a",
   "metadata": {},
   "outputs": [
    {
     "name": "stdout",
     "output_type": "stream",
     "text": [
      "Requirement already satisfied: yfinance in c:\\users\\beem2\\onedrive\\attachments\\lib\\site-packages (0.1.64)\n",
      "Requirement already satisfied: numpy>=1.15 in c:\\users\\beem2\\onedrive\\attachments\\lib\\site-packages (from yfinance) (1.20.1)\n",
      "Requirement already satisfied: lxml>=4.5.1 in c:\\users\\beem2\\onedrive\\attachments\\lib\\site-packages (from yfinance) (4.6.3)\n",
      "Requirement already satisfied: multitasking>=0.0.7 in c:\\users\\beem2\\onedrive\\attachments\\lib\\site-packages (from yfinance) (0.0.9)\n",
      "Requirement already satisfied: pandas>=0.24 in c:\\users\\beem2\\onedrive\\attachments\\lib\\site-packages (from yfinance) (1.2.4)\n",
      "Requirement already satisfied: requests>=2.20 in c:\\users\\beem2\\onedrive\\attachments\\lib\\site-packages (from yfinance) (2.25.1)\n",
      "Requirement already satisfied: pytz>=2017.3 in c:\\users\\beem2\\onedrive\\attachments\\lib\\site-packages (from pandas>=0.24->yfinance) (2021.1)\n",
      "Requirement already satisfied: python-dateutil>=2.7.3 in c:\\users\\beem2\\onedrive\\attachments\\lib\\site-packages (from pandas>=0.24->yfinance) (2.8.1)\n",
      "Requirement already satisfied: six>=1.5 in c:\\users\\beem2\\onedrive\\attachments\\lib\\site-packages (from python-dateutil>=2.7.3->pandas>=0.24->yfinance) (1.15.0)\n",
      "Requirement already satisfied: idna<3,>=2.5 in c:\\users\\beem2\\onedrive\\attachments\\lib\\site-packages (from requests>=2.20->yfinance) (2.10)\n",
      "Requirement already satisfied: urllib3<1.27,>=1.21.1 in c:\\users\\beem2\\onedrive\\attachments\\lib\\site-packages (from requests>=2.20->yfinance) (1.26.4)\n",
      "Requirement already satisfied: certifi>=2017.4.17 in c:\\users\\beem2\\onedrive\\attachments\\lib\\site-packages (from requests>=2.20->yfinance) (2020.12.5)\n",
      "Requirement already satisfied: chardet<5,>=3.0.2 in c:\\users\\beem2\\onedrive\\attachments\\lib\\site-packages (from requests>=2.20->yfinance) (4.0.0)\n",
      "Requirement already satisfied: plotly in c:\\users\\beem2\\onedrive\\attachments\\lib\\site-packages (5.4.0)\n",
      "Requirement already satisfied: six in c:\\users\\beem2\\onedrive\\attachments\\lib\\site-packages (from plotly) (1.15.0)\n",
      "Requirement already satisfied: tenacity>=6.2.0 in c:\\users\\beem2\\onedrive\\attachments\\lib\\site-packages (from plotly) (8.0.1)\n"
     ]
    }
   ],
   "source": [
    "!pip install yfinance\n",
    "!pip install -U plotly"
   ]
  },
  {
   "cell_type": "code",
   "execution_count": 107,
   "id": "d841a0e1-c749-4152-9847-4ab3c3b6b272",
   "metadata": {},
   "outputs": [],
   "source": [
    "import pandas as pd\n",
    "import numpy as np\n",
    "import yfinance as yf\n",
    "import matplotlib.pyplot as plt\n",
    "\n",
    "import plotly.express as px"
   ]
  },
  {
   "cell_type": "code",
   "execution_count": 108,
   "id": "cae7e9ca-dfc1-442d-9702-1fb7b604451c",
   "metadata": {},
   "outputs": [],
   "source": [
    "tikers = [\"AAPL\", \"TGT\", \"BND\",\"NVDA\",\"F\"]\n",
    "no_of_portfolios=20_000\n",
    "no_of_asset_classes =5"
   ]
  },
  {
   "cell_type": "code",
   "execution_count": 109,
   "id": "ad6765fe-15e8-4241-82d3-58e4328c2744",
   "metadata": {},
   "outputs": [
    {
     "name": "stdout",
     "output_type": "stream",
     "text": [
      "[*********************100%***********************]  1 of 1 completed\n"
     ]
    },
    {
     "data": {
      "text/html": [
       "<div>\n",
       "<style scoped>\n",
       "    .dataframe tbody tr th:only-of-type {\n",
       "        vertical-align: middle;\n",
       "    }\n",
       "\n",
       "    .dataframe tbody tr th {\n",
       "        vertical-align: top;\n",
       "    }\n",
       "\n",
       "    .dataframe thead th {\n",
       "        text-align: right;\n",
       "    }\n",
       "</style>\n",
       "<table border=\"1\" class=\"dataframe\">\n",
       "  <thead>\n",
       "    <tr style=\"text-align: right;\">\n",
       "      <th></th>\n",
       "      <th>Open</th>\n",
       "      <th>Close</th>\n",
       "    </tr>\n",
       "    <tr>\n",
       "      <th>Date</th>\n",
       "      <th></th>\n",
       "      <th></th>\n",
       "    </tr>\n",
       "  </thead>\n",
       "  <tbody>\n",
       "    <tr>\n",
       "      <th>2010-01-04</th>\n",
       "      <td>7.622500</td>\n",
       "      <td>7.643214</td>\n",
       "    </tr>\n",
       "    <tr>\n",
       "      <th>2010-01-05</th>\n",
       "      <td>7.664286</td>\n",
       "      <td>7.656429</td>\n",
       "    </tr>\n",
       "    <tr>\n",
       "      <th>2010-01-06</th>\n",
       "      <td>7.656429</td>\n",
       "      <td>7.534643</td>\n",
       "    </tr>\n",
       "  </tbody>\n",
       "</table>\n",
       "</div>"
      ],
      "text/plain": [
       "                Open     Close\n",
       "Date                          \n",
       "2010-01-04  7.622500  7.643214\n",
       "2010-01-05  7.664286  7.656429\n",
       "2010-01-06  7.656429  7.534643"
      ]
     },
     "execution_count": 109,
     "metadata": {},
     "output_type": "execute_result"
    }
   ],
   "source": [
    "aapl = yf.download(tikers[0], \"2010-01-04\", \"2019-12-31\")\n",
    "aapl = aapl[[\"Open\", \"Close\"]]\n",
    "aapl.head(3)"
   ]
  },
  {
   "cell_type": "code",
   "execution_count": 110,
   "id": "da4eacfb-8497-4b60-bf6b-ff5386643f2d",
   "metadata": {},
   "outputs": [
    {
     "name": "stdout",
     "output_type": "stream",
     "text": [
      "[*********************100%***********************]  1 of 1 completed\n"
     ]
    },
    {
     "data": {
      "text/html": [
       "<div>\n",
       "<style scoped>\n",
       "    .dataframe tbody tr th:only-of-type {\n",
       "        vertical-align: middle;\n",
       "    }\n",
       "\n",
       "    .dataframe tbody tr th {\n",
       "        vertical-align: top;\n",
       "    }\n",
       "\n",
       "    .dataframe thead th {\n",
       "        text-align: right;\n",
       "    }\n",
       "</style>\n",
       "<table border=\"1\" class=\"dataframe\">\n",
       "  <thead>\n",
       "    <tr style=\"text-align: right;\">\n",
       "      <th></th>\n",
       "      <th>Open</th>\n",
       "      <th>Close</th>\n",
       "    </tr>\n",
       "    <tr>\n",
       "      <th>Date</th>\n",
       "      <th></th>\n",
       "      <th></th>\n",
       "    </tr>\n",
       "  </thead>\n",
       "  <tbody>\n",
       "    <tr>\n",
       "      <th>2010-01-04</th>\n",
       "      <td>48.470001</td>\n",
       "      <td>48.549999</td>\n",
       "    </tr>\n",
       "    <tr>\n",
       "      <th>2010-01-05</th>\n",
       "      <td>48.509998</td>\n",
       "      <td>48.730000</td>\n",
       "    </tr>\n",
       "    <tr>\n",
       "      <th>2010-01-06</th>\n",
       "      <td>48.590000</td>\n",
       "      <td>49.660000</td>\n",
       "    </tr>\n",
       "  </tbody>\n",
       "</table>\n",
       "</div>"
      ],
      "text/plain": [
       "                 Open      Close\n",
       "Date                            \n",
       "2010-01-04  48.470001  48.549999\n",
       "2010-01-05  48.509998  48.730000\n",
       "2010-01-06  48.590000  49.660000"
      ]
     },
     "execution_count": 110,
     "metadata": {},
     "output_type": "execute_result"
    }
   ],
   "source": [
    "tgt = yf.download(tikers[1], \"2010-01-04\", \"2019-12-31\")\n",
    "tgt = tgt[[\"Open\", \"Close\"]]\n",
    "tgt.head(3)"
   ]
  },
  {
   "cell_type": "code",
   "execution_count": 111,
   "id": "bb1ddd16-f47a-462d-8de1-2894f597c645",
   "metadata": {},
   "outputs": [
    {
     "name": "stdout",
     "output_type": "stream",
     "text": [
      "[*********************100%***********************]  1 of 1 completed\n"
     ]
    },
    {
     "data": {
      "text/html": [
       "<div>\n",
       "<style scoped>\n",
       "    .dataframe tbody tr th:only-of-type {\n",
       "        vertical-align: middle;\n",
       "    }\n",
       "\n",
       "    .dataframe tbody tr th {\n",
       "        vertical-align: top;\n",
       "    }\n",
       "\n",
       "    .dataframe thead th {\n",
       "        text-align: right;\n",
       "    }\n",
       "</style>\n",
       "<table border=\"1\" class=\"dataframe\">\n",
       "  <thead>\n",
       "    <tr style=\"text-align: right;\">\n",
       "      <th></th>\n",
       "      <th>Open</th>\n",
       "      <th>Close</th>\n",
       "    </tr>\n",
       "    <tr>\n",
       "      <th>Date</th>\n",
       "      <th></th>\n",
       "      <th></th>\n",
       "    </tr>\n",
       "  </thead>\n",
       "  <tbody>\n",
       "    <tr>\n",
       "      <th>2009-12-31</th>\n",
       "      <td>78.540001</td>\n",
       "      <td>78.589996</td>\n",
       "    </tr>\n",
       "    <tr>\n",
       "      <th>2010-01-04</th>\n",
       "      <td>78.599998</td>\n",
       "      <td>78.680000</td>\n",
       "    </tr>\n",
       "    <tr>\n",
       "      <th>2010-01-05</th>\n",
       "      <td>78.889999</td>\n",
       "      <td>78.910004</td>\n",
       "    </tr>\n",
       "  </tbody>\n",
       "</table>\n",
       "</div>"
      ],
      "text/plain": [
       "                 Open      Close\n",
       "Date                            \n",
       "2009-12-31  78.540001  78.589996\n",
       "2010-01-04  78.599998  78.680000\n",
       "2010-01-05  78.889999  78.910004"
      ]
     },
     "execution_count": 111,
     "metadata": {},
     "output_type": "execute_result"
    }
   ],
   "source": [
    "bnd = yf.download(tikers[2], \"2010-01-01\", \"2019-12-31\")\n",
    "bnd = bnd[[\"Open\", \"Close\"]]\n",
    "bnd.head(3)"
   ]
  },
  {
   "cell_type": "code",
   "execution_count": 112,
   "id": "e78d2229-3414-4f03-84ae-1663ac65ecf6",
   "metadata": {},
   "outputs": [
    {
     "name": "stdout",
     "output_type": "stream",
     "text": [
      "[*********************100%***********************]  1 of 1 completed\n"
     ]
    },
    {
     "data": {
      "text/html": [
       "<div>\n",
       "<style scoped>\n",
       "    .dataframe tbody tr th:only-of-type {\n",
       "        vertical-align: middle;\n",
       "    }\n",
       "\n",
       "    .dataframe tbody tr th {\n",
       "        vertical-align: top;\n",
       "    }\n",
       "\n",
       "    .dataframe thead th {\n",
       "        text-align: right;\n",
       "    }\n",
       "</style>\n",
       "<table border=\"1\" class=\"dataframe\">\n",
       "  <thead>\n",
       "    <tr style=\"text-align: right;\">\n",
       "      <th></th>\n",
       "      <th>Open</th>\n",
       "      <th>Close</th>\n",
       "    </tr>\n",
       "    <tr>\n",
       "      <th>Date</th>\n",
       "      <th></th>\n",
       "      <th></th>\n",
       "    </tr>\n",
       "  </thead>\n",
       "  <tbody>\n",
       "    <tr>\n",
       "      <th>2009-12-31</th>\n",
       "      <td>4.6775</td>\n",
       "      <td>4.6700</td>\n",
       "    </tr>\n",
       "    <tr>\n",
       "      <th>2010-01-04</th>\n",
       "      <td>4.6275</td>\n",
       "      <td>4.6225</td>\n",
       "    </tr>\n",
       "    <tr>\n",
       "      <th>2010-01-05</th>\n",
       "      <td>4.6050</td>\n",
       "      <td>4.6900</td>\n",
       "    </tr>\n",
       "  </tbody>\n",
       "</table>\n",
       "</div>"
      ],
      "text/plain": [
       "              Open   Close\n",
       "Date                      \n",
       "2009-12-31  4.6775  4.6700\n",
       "2010-01-04  4.6275  4.6225\n",
       "2010-01-05  4.6050  4.6900"
      ]
     },
     "execution_count": 112,
     "metadata": {},
     "output_type": "execute_result"
    }
   ],
   "source": [
    "nvda = yf.download(tikers[3], \"2010-01-01\", \"2019-12-31\")\n",
    "nvda = nvda[[\"Open\", \"Close\"]]\n",
    "nvda.head(3)"
   ]
  },
  {
   "cell_type": "code",
   "execution_count": 113,
   "id": "d9078973-eb0f-4fdc-a433-8d326441e0a0",
   "metadata": {},
   "outputs": [
    {
     "name": "stdout",
     "output_type": "stream",
     "text": [
      "[*********************100%***********************]  1 of 1 completed\n"
     ]
    },
    {
     "data": {
      "text/html": [
       "<div>\n",
       "<style scoped>\n",
       "    .dataframe tbody tr th:only-of-type {\n",
       "        vertical-align: middle;\n",
       "    }\n",
       "\n",
       "    .dataframe tbody tr th {\n",
       "        vertical-align: top;\n",
       "    }\n",
       "\n",
       "    .dataframe thead th {\n",
       "        text-align: right;\n",
       "    }\n",
       "</style>\n",
       "<table border=\"1\" class=\"dataframe\">\n",
       "  <thead>\n",
       "    <tr style=\"text-align: right;\">\n",
       "      <th></th>\n",
       "      <th>Open</th>\n",
       "      <th>Close</th>\n",
       "    </tr>\n",
       "    <tr>\n",
       "      <th>Date</th>\n",
       "      <th></th>\n",
       "      <th></th>\n",
       "    </tr>\n",
       "  </thead>\n",
       "  <tbody>\n",
       "    <tr>\n",
       "      <th>2009-12-31</th>\n",
       "      <td>10.04</td>\n",
       "      <td>10.00</td>\n",
       "    </tr>\n",
       "    <tr>\n",
       "      <th>2010-01-04</th>\n",
       "      <td>10.17</td>\n",
       "      <td>10.28</td>\n",
       "    </tr>\n",
       "    <tr>\n",
       "      <th>2010-01-05</th>\n",
       "      <td>10.45</td>\n",
       "      <td>10.96</td>\n",
       "    </tr>\n",
       "  </tbody>\n",
       "</table>\n",
       "</div>"
      ],
      "text/plain": [
       "             Open  Close\n",
       "Date                    \n",
       "2009-12-31  10.04  10.00\n",
       "2010-01-04  10.17  10.28\n",
       "2010-01-05  10.45  10.96"
      ]
     },
     "execution_count": 113,
     "metadata": {},
     "output_type": "execute_result"
    }
   ],
   "source": [
    "f = yf.download(tikers[4], \"2010-01-01\", \"2019-12-31\")\n",
    "f = f[[\"Open\", \"Close\"]]\n",
    "f.head(3)"
   ]
  },
  {
   "cell_type": "code",
   "execution_count": 114,
   "id": "0c11fcbf-309b-4f02-9f11-c06038c92d25",
   "metadata": {},
   "outputs": [
    {
     "data": {
      "text/html": [
       "<div>\n",
       "<style scoped>\n",
       "    .dataframe tbody tr th:only-of-type {\n",
       "        vertical-align: middle;\n",
       "    }\n",
       "\n",
       "    .dataframe tbody tr th {\n",
       "        vertical-align: top;\n",
       "    }\n",
       "\n",
       "    .dataframe thead th {\n",
       "        text-align: right;\n",
       "    }\n",
       "</style>\n",
       "<table border=\"1\" class=\"dataframe\">\n",
       "  <thead>\n",
       "    <tr style=\"text-align: right;\">\n",
       "      <th></th>\n",
       "      <th>AAPL_Open</th>\n",
       "      <th>AAPL_Close</th>\n",
       "      <th>TGT_Open</th>\n",
       "      <th>TGT_Close</th>\n",
       "      <th>BND_Open</th>\n",
       "      <th>BND_Close</th>\n",
       "      <th>NVDA_Open</th>\n",
       "      <th>NVDA_Close</th>\n",
       "      <th>F_Open</th>\n",
       "      <th>F_Close</th>\n",
       "    </tr>\n",
       "    <tr>\n",
       "      <th>Date</th>\n",
       "      <th></th>\n",
       "      <th></th>\n",
       "      <th></th>\n",
       "      <th></th>\n",
       "      <th></th>\n",
       "      <th></th>\n",
       "      <th></th>\n",
       "      <th></th>\n",
       "      <th></th>\n",
       "      <th></th>\n",
       "    </tr>\n",
       "  </thead>\n",
       "  <tbody>\n",
       "    <tr>\n",
       "      <th>2010-01-04</th>\n",
       "      <td>7.622500</td>\n",
       "      <td>7.643214</td>\n",
       "      <td>48.470001</td>\n",
       "      <td>48.549999</td>\n",
       "      <td>78.599998</td>\n",
       "      <td>78.680000</td>\n",
       "      <td>4.627500</td>\n",
       "      <td>4.622500</td>\n",
       "      <td>10.17</td>\n",
       "      <td>10.28</td>\n",
       "    </tr>\n",
       "    <tr>\n",
       "      <th>2010-01-05</th>\n",
       "      <td>7.664286</td>\n",
       "      <td>7.656429</td>\n",
       "      <td>48.509998</td>\n",
       "      <td>48.730000</td>\n",
       "      <td>78.889999</td>\n",
       "      <td>78.910004</td>\n",
       "      <td>4.605000</td>\n",
       "      <td>4.690000</td>\n",
       "      <td>10.45</td>\n",
       "      <td>10.96</td>\n",
       "    </tr>\n",
       "    <tr>\n",
       "      <th>2010-01-06</th>\n",
       "      <td>7.656429</td>\n",
       "      <td>7.534643</td>\n",
       "      <td>48.590000</td>\n",
       "      <td>49.660000</td>\n",
       "      <td>78.970001</td>\n",
       "      <td>78.879997</td>\n",
       "      <td>4.687500</td>\n",
       "      <td>4.720000</td>\n",
       "      <td>11.21</td>\n",
       "      <td>11.37</td>\n",
       "    </tr>\n",
       "    <tr>\n",
       "      <th>2010-01-07</th>\n",
       "      <td>7.562500</td>\n",
       "      <td>7.520714</td>\n",
       "      <td>50.200001</td>\n",
       "      <td>50.270000</td>\n",
       "      <td>78.720001</td>\n",
       "      <td>78.820000</td>\n",
       "      <td>4.695000</td>\n",
       "      <td>4.627500</td>\n",
       "      <td>11.46</td>\n",
       "      <td>11.66</td>\n",
       "    </tr>\n",
       "    <tr>\n",
       "      <th>2010-01-08</th>\n",
       "      <td>7.510714</td>\n",
       "      <td>7.570714</td>\n",
       "      <td>50.049999</td>\n",
       "      <td>50.070000</td>\n",
       "      <td>78.879997</td>\n",
       "      <td>78.900002</td>\n",
       "      <td>4.590000</td>\n",
       "      <td>4.637500</td>\n",
       "      <td>11.67</td>\n",
       "      <td>11.69</td>\n",
       "    </tr>\n",
       "    <tr>\n",
       "      <th>...</th>\n",
       "      <td>...</td>\n",
       "      <td>...</td>\n",
       "      <td>...</td>\n",
       "      <td>...</td>\n",
       "      <td>...</td>\n",
       "      <td>...</td>\n",
       "      <td>...</td>\n",
       "      <td>...</td>\n",
       "      <td>...</td>\n",
       "      <td>...</td>\n",
       "    </tr>\n",
       "    <tr>\n",
       "      <th>2019-12-23</th>\n",
       "      <td>70.132500</td>\n",
       "      <td>71.000000</td>\n",
       "      <td>129.470001</td>\n",
       "      <td>128.339996</td>\n",
       "      <td>83.790001</td>\n",
       "      <td>83.699997</td>\n",
       "      <td>60.130001</td>\n",
       "      <td>59.705002</td>\n",
       "      <td>9.50</td>\n",
       "      <td>9.44</td>\n",
       "    </tr>\n",
       "    <tr>\n",
       "      <th>2019-12-24</th>\n",
       "      <td>71.172501</td>\n",
       "      <td>71.067497</td>\n",
       "      <td>128.899994</td>\n",
       "      <td>128.550003</td>\n",
       "      <td>83.629997</td>\n",
       "      <td>83.779999</td>\n",
       "      <td>59.549999</td>\n",
       "      <td>59.654999</td>\n",
       "      <td>9.44</td>\n",
       "      <td>9.47</td>\n",
       "    </tr>\n",
       "    <tr>\n",
       "      <th>2019-12-26</th>\n",
       "      <td>71.205002</td>\n",
       "      <td>72.477501</td>\n",
       "      <td>129.130005</td>\n",
       "      <td>128.889999</td>\n",
       "      <td>83.820000</td>\n",
       "      <td>83.860001</td>\n",
       "      <td>59.689999</td>\n",
       "      <td>59.797501</td>\n",
       "      <td>9.47</td>\n",
       "      <td>9.45</td>\n",
       "    </tr>\n",
       "    <tr>\n",
       "      <th>2019-12-27</th>\n",
       "      <td>72.779999</td>\n",
       "      <td>72.449997</td>\n",
       "      <td>129.000000</td>\n",
       "      <td>129.210007</td>\n",
       "      <td>83.959999</td>\n",
       "      <td>83.980003</td>\n",
       "      <td>59.950001</td>\n",
       "      <td>59.217499</td>\n",
       "      <td>9.45</td>\n",
       "      <td>9.36</td>\n",
       "    </tr>\n",
       "    <tr>\n",
       "      <th>2019-12-30</th>\n",
       "      <td>72.364998</td>\n",
       "      <td>72.879997</td>\n",
       "      <td>129.000000</td>\n",
       "      <td>128.889999</td>\n",
       "      <td>83.760002</td>\n",
       "      <td>83.949997</td>\n",
       "      <td>58.997501</td>\n",
       "      <td>58.080002</td>\n",
       "      <td>9.34</td>\n",
       "      <td>9.25</td>\n",
       "    </tr>\n",
       "  </tbody>\n",
       "</table>\n",
       "<p>2515 rows × 10 columns</p>\n",
       "</div>"
      ],
      "text/plain": [
       "            AAPL_Open  AAPL_Close    TGT_Open   TGT_Close   BND_Open  \\\n",
       "Date                                                                   \n",
       "2010-01-04   7.622500    7.643214   48.470001   48.549999  78.599998   \n",
       "2010-01-05   7.664286    7.656429   48.509998   48.730000  78.889999   \n",
       "2010-01-06   7.656429    7.534643   48.590000   49.660000  78.970001   \n",
       "2010-01-07   7.562500    7.520714   50.200001   50.270000  78.720001   \n",
       "2010-01-08   7.510714    7.570714   50.049999   50.070000  78.879997   \n",
       "...               ...         ...         ...         ...        ...   \n",
       "2019-12-23  70.132500   71.000000  129.470001  128.339996  83.790001   \n",
       "2019-12-24  71.172501   71.067497  128.899994  128.550003  83.629997   \n",
       "2019-12-26  71.205002   72.477501  129.130005  128.889999  83.820000   \n",
       "2019-12-27  72.779999   72.449997  129.000000  129.210007  83.959999   \n",
       "2019-12-30  72.364998   72.879997  129.000000  128.889999  83.760002   \n",
       "\n",
       "            BND_Close  NVDA_Open  NVDA_Close  F_Open  F_Close  \n",
       "Date                                                           \n",
       "2010-01-04  78.680000   4.627500    4.622500   10.17    10.28  \n",
       "2010-01-05  78.910004   4.605000    4.690000   10.45    10.96  \n",
       "2010-01-06  78.879997   4.687500    4.720000   11.21    11.37  \n",
       "2010-01-07  78.820000   4.695000    4.627500   11.46    11.66  \n",
       "2010-01-08  78.900002   4.590000    4.637500   11.67    11.69  \n",
       "...               ...        ...         ...     ...      ...  \n",
       "2019-12-23  83.699997  60.130001   59.705002    9.50     9.44  \n",
       "2019-12-24  83.779999  59.549999   59.654999    9.44     9.47  \n",
       "2019-12-26  83.860001  59.689999   59.797501    9.47     9.45  \n",
       "2019-12-27  83.980003  59.950001   59.217499    9.45     9.36  \n",
       "2019-12-30  83.949997  58.997501   58.080002    9.34     9.25  \n",
       "\n",
       "[2515 rows x 10 columns]"
      ]
     },
     "execution_count": 114,
     "metadata": {},
     "output_type": "execute_result"
    }
   ],
   "source": [
    "df = pd.concat([aapl, tgt, bnd,nvda,f], axis=1).dropna()\n",
    "df_col =['AAPL_Open', \"AAPL_Close\",\"TGT_Open\", \"TGT_Close\",\"BND_Open\",\"BND_Close\",\"NVDA_Open\",\n",
    "\"NVDA_Close\",\"F_Open\",\"F_Close\"]\n",
    "\n",
    "df.columns=df_col\n",
    "df\n"
   ]
  },
  {
   "cell_type": "code",
   "execution_count": 115,
   "id": "9d887620-56f5-438b-9639-1f5a68f63985",
   "metadata": {},
   "outputs": [
    {
     "data": {
      "text/html": [
       "<div>\n",
       "<style scoped>\n",
       "    .dataframe tbody tr th:only-of-type {\n",
       "        vertical-align: middle;\n",
       "    }\n",
       "\n",
       "    .dataframe tbody tr th {\n",
       "        vertical-align: top;\n",
       "    }\n",
       "\n",
       "    .dataframe thead th {\n",
       "        text-align: right;\n",
       "    }\n",
       "</style>\n",
       "<table border=\"1\" class=\"dataframe\">\n",
       "  <thead>\n",
       "    <tr style=\"text-align: right;\">\n",
       "      <th></th>\n",
       "      <th>AAPL_Close</th>\n",
       "      <th>TGT_Close</th>\n",
       "      <th>BND_Close</th>\n",
       "      <th>NVDA_Close</th>\n",
       "      <th>F_Close</th>\n",
       "    </tr>\n",
       "    <tr>\n",
       "      <th>Date</th>\n",
       "      <th></th>\n",
       "      <th></th>\n",
       "      <th></th>\n",
       "      <th></th>\n",
       "      <th></th>\n",
       "    </tr>\n",
       "  </thead>\n",
       "  <tbody>\n",
       "    <tr>\n",
       "      <th>2010-01-04</th>\n",
       "      <td>7.643214</td>\n",
       "      <td>48.549999</td>\n",
       "      <td>78.680000</td>\n",
       "      <td>4.6225</td>\n",
       "      <td>10.28</td>\n",
       "    </tr>\n",
       "    <tr>\n",
       "      <th>2010-01-05</th>\n",
       "      <td>7.656429</td>\n",
       "      <td>48.730000</td>\n",
       "      <td>78.910004</td>\n",
       "      <td>4.6900</td>\n",
       "      <td>10.96</td>\n",
       "    </tr>\n",
       "    <tr>\n",
       "      <th>2010-01-06</th>\n",
       "      <td>7.534643</td>\n",
       "      <td>49.660000</td>\n",
       "      <td>78.879997</td>\n",
       "      <td>4.7200</td>\n",
       "      <td>11.37</td>\n",
       "    </tr>\n",
       "    <tr>\n",
       "      <th>2010-01-07</th>\n",
       "      <td>7.520714</td>\n",
       "      <td>50.270000</td>\n",
       "      <td>78.820000</td>\n",
       "      <td>4.6275</td>\n",
       "      <td>11.66</td>\n",
       "    </tr>\n",
       "    <tr>\n",
       "      <th>2010-01-08</th>\n",
       "      <td>7.570714</td>\n",
       "      <td>50.070000</td>\n",
       "      <td>78.900002</td>\n",
       "      <td>4.6375</td>\n",
       "      <td>11.69</td>\n",
       "    </tr>\n",
       "    <tr>\n",
       "      <th>...</th>\n",
       "      <td>...</td>\n",
       "      <td>...</td>\n",
       "      <td>...</td>\n",
       "      <td>...</td>\n",
       "      <td>...</td>\n",
       "    </tr>\n",
       "    <tr>\n",
       "      <th>2012-12-24</th>\n",
       "      <td>18.577499</td>\n",
       "      <td>59.540001</td>\n",
       "      <td>83.949997</td>\n",
       "      <td>3.0625</td>\n",
       "      <td>12.40</td>\n",
       "    </tr>\n",
       "    <tr>\n",
       "      <th>2012-12-26</th>\n",
       "      <td>18.321428</td>\n",
       "      <td>59.209999</td>\n",
       "      <td>84.019997</td>\n",
       "      <td>3.0600</td>\n",
       "      <td>12.79</td>\n",
       "    </tr>\n",
       "    <tr>\n",
       "      <th>2012-12-27</th>\n",
       "      <td>18.395000</td>\n",
       "      <td>58.930000</td>\n",
       "      <td>84.089996</td>\n",
       "      <td>3.0400</td>\n",
       "      <td>12.76</td>\n",
       "    </tr>\n",
       "    <tr>\n",
       "      <th>2012-12-28</th>\n",
       "      <td>18.199642</td>\n",
       "      <td>58.570000</td>\n",
       "      <td>84.110001</td>\n",
       "      <td>3.0250</td>\n",
       "      <td>12.87</td>\n",
       "    </tr>\n",
       "    <tr>\n",
       "      <th>2012-12-31</th>\n",
       "      <td>19.006071</td>\n",
       "      <td>59.169998</td>\n",
       "      <td>84.029999</td>\n",
       "      <td>3.0650</td>\n",
       "      <td>12.95</td>\n",
       "    </tr>\n",
       "  </tbody>\n",
       "</table>\n",
       "<p>754 rows × 5 columns</p>\n",
       "</div>"
      ],
      "text/plain": [
       "            AAPL_Close  TGT_Close  BND_Close  NVDA_Close  F_Close\n",
       "Date                                                             \n",
       "2010-01-04    7.643214  48.549999  78.680000      4.6225    10.28\n",
       "2010-01-05    7.656429  48.730000  78.910004      4.6900    10.96\n",
       "2010-01-06    7.534643  49.660000  78.879997      4.7200    11.37\n",
       "2010-01-07    7.520714  50.270000  78.820000      4.6275    11.66\n",
       "2010-01-08    7.570714  50.070000  78.900002      4.6375    11.69\n",
       "...                ...        ...        ...         ...      ...\n",
       "2012-12-24   18.577499  59.540001  83.949997      3.0625    12.40\n",
       "2012-12-26   18.321428  59.209999  84.019997      3.0600    12.79\n",
       "2012-12-27   18.395000  58.930000  84.089996      3.0400    12.76\n",
       "2012-12-28   18.199642  58.570000  84.110001      3.0250    12.87\n",
       "2012-12-31   19.006071  59.169998  84.029999      3.0650    12.95\n",
       "\n",
       "[754 rows x 5 columns]"
      ]
     },
     "execution_count": 115,
     "metadata": {},
     "output_type": "execute_result"
    }
   ],
   "source": [
    "df_3years = df.loc['2010':'2012',['AAPL_Close','TGT_Close','BND_Close','NVDA_Close','F_Close']]\n",
    "df_3years"
   ]
  },
  {
   "cell_type": "code",
   "execution_count": 116,
   "id": "ebf92995-65b7-416b-a67b-a7f06e858424",
   "metadata": {},
   "outputs": [],
   "source": [
    "df_3years.loc[:,\"AAPL_Close_Returns\"] = df_3years.AAPL_Close.pct_change().dropna()"
   ]
  },
  {
   "cell_type": "code",
   "execution_count": 117,
   "id": "18be1853-10c9-4e81-bb6a-2a26a62b50b7",
   "metadata": {},
   "outputs": [],
   "source": [
    "df_3years.loc[:,\"TGT_Close_Returns\"] = df_3years.TGT_Close.pct_change().dropna()\n"
   ]
  },
  {
   "cell_type": "code",
   "execution_count": 118,
   "id": "81eb85fd-f7fa-4182-b28d-4d387819c3f1",
   "metadata": {},
   "outputs": [],
   "source": [
    "df_3years.loc[:,\"BND_Close_Returns\"] = df_3years.BND_Close.pct_change().dropna()\n"
   ]
  },
  {
   "cell_type": "code",
   "execution_count": 119,
   "id": "89c00bb0-de88-4d2e-9b85-a09ef66c601b",
   "metadata": {},
   "outputs": [],
   "source": [
    "\n",
    "df_3years.loc[:,\"NVDA_Close_Returns\"] = df_3years.NVDA_Close.pct_change().dropna()"
   ]
  },
  {
   "cell_type": "code",
   "execution_count": 120,
   "id": "a3028e73-5efa-4408-90e0-2b1699f72133",
   "metadata": {},
   "outputs": [],
   "source": [
    "df_3years.loc[:,\"F_CLose_Returns\"] = df_3years.F_Close.pct_change().dropna()"
   ]
  },
  {
   "cell_type": "code",
   "execution_count": 121,
   "id": "1c1be9f3-f385-4d8b-b30f-dbcf7b566bc4",
   "metadata": {},
   "outputs": [
    {
     "data": {
      "text/html": [
       "<div>\n",
       "<style scoped>\n",
       "    .dataframe tbody tr th:only-of-type {\n",
       "        vertical-align: middle;\n",
       "    }\n",
       "\n",
       "    .dataframe tbody tr th {\n",
       "        vertical-align: top;\n",
       "    }\n",
       "\n",
       "    .dataframe thead th {\n",
       "        text-align: right;\n",
       "    }\n",
       "</style>\n",
       "<table border=\"1\" class=\"dataframe\">\n",
       "  <thead>\n",
       "    <tr style=\"text-align: right;\">\n",
       "      <th></th>\n",
       "      <th>AAPL_Close_Returns</th>\n",
       "      <th>TGT_Close_Returns</th>\n",
       "      <th>BND_Close_Returns</th>\n",
       "      <th>NVDA_Close_Returns</th>\n",
       "      <th>F_CLose_Returns</th>\n",
       "    </tr>\n",
       "    <tr>\n",
       "      <th>Date</th>\n",
       "      <th></th>\n",
       "      <th></th>\n",
       "      <th></th>\n",
       "      <th></th>\n",
       "      <th></th>\n",
       "    </tr>\n",
       "  </thead>\n",
       "  <tbody>\n",
       "    <tr>\n",
       "      <th>2010-01-05</th>\n",
       "      <td>0.001729</td>\n",
       "      <td>0.003708</td>\n",
       "      <td>0.002923</td>\n",
       "      <td>0.014603</td>\n",
       "      <td>0.066148</td>\n",
       "    </tr>\n",
       "    <tr>\n",
       "      <th>2010-01-06</th>\n",
       "      <td>-0.015906</td>\n",
       "      <td>0.019085</td>\n",
       "      <td>-0.000380</td>\n",
       "      <td>0.006397</td>\n",
       "      <td>0.037409</td>\n",
       "    </tr>\n",
       "    <tr>\n",
       "      <th>2010-01-07</th>\n",
       "      <td>-0.001849</td>\n",
       "      <td>0.012284</td>\n",
       "      <td>-0.000761</td>\n",
       "      <td>-0.019597</td>\n",
       "      <td>0.025506</td>\n",
       "    </tr>\n",
       "    <tr>\n",
       "      <th>2010-01-08</th>\n",
       "      <td>0.006648</td>\n",
       "      <td>-0.003979</td>\n",
       "      <td>0.001015</td>\n",
       "      <td>0.002161</td>\n",
       "      <td>0.002573</td>\n",
       "    </tr>\n",
       "    <tr>\n",
       "      <th>2010-01-11</th>\n",
       "      <td>-0.008821</td>\n",
       "      <td>0.002197</td>\n",
       "      <td>0.000380</td>\n",
       "      <td>-0.014016</td>\n",
       "      <td>0.035928</td>\n",
       "    </tr>\n",
       "    <tr>\n",
       "      <th>...</th>\n",
       "      <td>...</td>\n",
       "      <td>...</td>\n",
       "      <td>...</td>\n",
       "      <td>...</td>\n",
       "      <td>...</td>\n",
       "    </tr>\n",
       "    <tr>\n",
       "      <th>2012-12-24</th>\n",
       "      <td>0.001617</td>\n",
       "      <td>-0.001007</td>\n",
       "      <td>-0.006744</td>\n",
       "      <td>-0.008097</td>\n",
       "      <td>0.045531</td>\n",
       "    </tr>\n",
       "    <tr>\n",
       "      <th>2012-12-26</th>\n",
       "      <td>-0.013784</td>\n",
       "      <td>-0.005543</td>\n",
       "      <td>0.000834</td>\n",
       "      <td>-0.000816</td>\n",
       "      <td>0.031452</td>\n",
       "    </tr>\n",
       "    <tr>\n",
       "      <th>2012-12-27</th>\n",
       "      <td>0.004016</td>\n",
       "      <td>-0.004729</td>\n",
       "      <td>0.000833</td>\n",
       "      <td>-0.006536</td>\n",
       "      <td>-0.002346</td>\n",
       "    </tr>\n",
       "    <tr>\n",
       "      <th>2012-12-28</th>\n",
       "      <td>-0.010620</td>\n",
       "      <td>-0.006109</td>\n",
       "      <td>0.000238</td>\n",
       "      <td>-0.004934</td>\n",
       "      <td>0.008621</td>\n",
       "    </tr>\n",
       "    <tr>\n",
       "      <th>2012-12-31</th>\n",
       "      <td>0.044310</td>\n",
       "      <td>0.010244</td>\n",
       "      <td>-0.000951</td>\n",
       "      <td>0.013223</td>\n",
       "      <td>0.006216</td>\n",
       "    </tr>\n",
       "  </tbody>\n",
       "</table>\n",
       "<p>753 rows × 5 columns</p>\n",
       "</div>"
      ],
      "text/plain": [
       "            AAPL_Close_Returns  TGT_Close_Returns  BND_Close_Returns  \\\n",
       "Date                                                                   \n",
       "2010-01-05            0.001729           0.003708           0.002923   \n",
       "2010-01-06           -0.015906           0.019085          -0.000380   \n",
       "2010-01-07           -0.001849           0.012284          -0.000761   \n",
       "2010-01-08            0.006648          -0.003979           0.001015   \n",
       "2010-01-11           -0.008821           0.002197           0.000380   \n",
       "...                        ...                ...                ...   \n",
       "2012-12-24            0.001617          -0.001007          -0.006744   \n",
       "2012-12-26           -0.013784          -0.005543           0.000834   \n",
       "2012-12-27            0.004016          -0.004729           0.000833   \n",
       "2012-12-28           -0.010620          -0.006109           0.000238   \n",
       "2012-12-31            0.044310           0.010244          -0.000951   \n",
       "\n",
       "            NVDA_Close_Returns  F_CLose_Returns  \n",
       "Date                                             \n",
       "2010-01-05            0.014603         0.066148  \n",
       "2010-01-06            0.006397         0.037409  \n",
       "2010-01-07           -0.019597         0.025506  \n",
       "2010-01-08            0.002161         0.002573  \n",
       "2010-01-11           -0.014016         0.035928  \n",
       "...                        ...              ...  \n",
       "2012-12-24           -0.008097         0.045531  \n",
       "2012-12-26           -0.000816         0.031452  \n",
       "2012-12-27           -0.006536        -0.002346  \n",
       "2012-12-28           -0.004934         0.008621  \n",
       "2012-12-31            0.013223         0.006216  \n",
       "\n",
       "[753 rows x 5 columns]"
      ]
     },
     "execution_count": 121,
     "metadata": {},
     "output_type": "execute_result"
    }
   ],
   "source": [
    "df_3years =df_3years.drop(columns=['AAPL_Close','TGT_Close','BND_Close','NVDA_Close','F_Close']).dropna()\n",
    "df_3years"
   ]
  },
  {
   "cell_type": "code",
   "execution_count": 122,
   "id": "7a604b07-b6ce-46d3-a0bb-617df8a18800",
   "metadata": {},
   "outputs": [],
   "source": [
    " matrix_of_return_values=np.asmatrix(df_3years.values)\n",
    "    "
   ]
  },
  {
   "cell_type": "code",
   "execution_count": 123,
   "id": "3297f2d5-cabd-4cca-85b0-28827bcb90c8",
   "metadata": {},
   "outputs": [
    {
     "data": {
      "text/plain": [
       "matrix([[ 0.00172893,  0.00370752,  0.00292328,  0.01460251,  0.06614789],\n",
       "        [-0.01590632,  0.01908476, -0.00038026,  0.00639653,  0.03740875],\n",
       "        [-0.00184871,  0.01228354, -0.00076062, -0.0195974 ,  0.02550571],\n",
       "        ...,\n",
       "        [ 0.00401563, -0.00472891,  0.00083313, -0.00653594, -0.00234556],\n",
       "        [-0.01062018, -0.00610895,  0.00023789, -0.00493417,  0.00862066],\n",
       "        [ 0.04431015,  0.01024413, -0.00095116,  0.01322313,  0.006216  ]])"
      ]
     },
     "execution_count": 123,
     "metadata": {},
     "output_type": "execute_result"
    }
   ],
   "source": [
    "matrix_of_return_values"
   ]
  },
  {
   "cell_type": "code",
   "execution_count": 124,
   "id": "65c50745-0f28-4686-9bcd-f5753be728c1",
   "metadata": {},
   "outputs": [],
   "source": [
    "def get_random_asset_weights(no_of_asset_classes):\n",
    "    random_asset_weights = np.random.rand(no_of_asset_classes)\n",
    "    random_asset_weights= random_asset_weights / random_asset_weights.sum()\n",
    "   \n",
    "    return random_asset_weights"
   ]
  },
  {
   "cell_type": "code",
   "execution_count": 125,
   "id": "07ef66c8-c27c-41e8-9c2f-c16f53857fa5",
   "metadata": {},
   "outputs": [],
   "source": [
    " asset_weights = get_random_asset_weights(no_of_asset_classes)"
   ]
  },
  {
   "cell_type": "code",
   "execution_count": 126,
   "id": "036dd781-4e58-411f-8204-a65840bdde80",
   "metadata": {},
   "outputs": [
    {
     "data": {
      "text/plain": [
       "array([0.18642956, 0.1233495 , 0.25027612, 0.32928933, 0.11065549])"
      ]
     },
     "execution_count": 126,
     "metadata": {},
     "output_type": "execute_result"
    }
   ],
   "source": [
    "asset_weights"
   ]
  },
  {
   "cell_type": "code",
   "execution_count": 127,
   "id": "46e357f6-a293-4b03-8f2c-d7efb7004ce6",
   "metadata": {},
   "outputs": [
    {
     "data": {
      "text/plain": [
       "(5, 5)"
      ]
     },
     "execution_count": 127,
     "metadata": {},
     "output_type": "execute_result"
    }
   ],
   "source": [
    "np.cov(matrix_of_return_values, rowvar=False).shape"
   ]
  },
  {
   "cell_type": "code",
   "execution_count": 128,
   "id": "eaec9de7-ca7e-4db2-81cc-2373f260f33a",
   "metadata": {},
   "outputs": [
    {
     "data": {
      "text/plain": [
       "(753, 5)"
      ]
     },
     "execution_count": 128,
     "metadata": {},
     "output_type": "execute_result"
    }
   ],
   "source": [
    "matrix_of_return_values.shape"
   ]
  },
  {
   "cell_type": "code",
   "execution_count": 129,
   "id": "b2db42ae-aecc-4cc0-96d7-6a783de8bd04",
   "metadata": {},
   "outputs": [
    {
     "data": {
      "text/plain": [
       "(5,)"
      ]
     },
     "execution_count": 129,
     "metadata": {},
     "output_type": "execute_result"
    }
   ],
   "source": [
    "asset_weights.shape"
   ]
  },
  {
   "cell_type": "code",
   "execution_count": 130,
   "id": "4eaff148-b1eb-42b0-be46-23a4cba4e969",
   "metadata": {},
   "outputs": [],
   "source": [
    "def get_portfolio_statistics(asset_weights, matrix_of_return_values):\n",
    "    \n",
    "    asset_means = np.array(np.mean(matrix_of_return_values,axis=0)).reshape(-1)\n",
    "    \n",
    "    asset_covariances = np.cov(matrix_of_return_values, rowvar=False)\n",
    "    \n",
    "    portfolio_mean = np.dot(asset_weights, asset_means)\n",
    "    \n",
    "    portfolio_standard_deviation = np.dot(asset_weights.T,\n",
    "            np.dot(asset_weights, asset_covariances)) ** (0.5)\n",
    "    \n",
    "    portfolio_sharpe_ratio = portfolio_mean / portfolio_standard_deviation \n",
    "    return portfolio_mean, portfolio_standard_deviation, portfolio_sharpe_ratio"
   ]
  },
  {
   "cell_type": "code",
   "execution_count": 131,
   "id": "b3b46d6f-3d44-438e-9805-78cf21ef6fec",
   "metadata": {},
   "outputs": [],
   "source": [
    "collection_of_random_asset_weights = []\n",
    "portfolio_means = []\n",
    "portfolio_standard_deviations = []\n",
    "portfolio_sharpe_ratios = []\n",
    "\n",
    "while len(collection_of_random_asset_weights)< no_of_portfolios:\n",
    "    random_asset_weights = get_random_asset_weights(no_of_asset_classes)\n",
    "    collection_of_random_asset_weights.append(random_asset_weights) \n",
    "    statistic = get_portfolio_statistics(random_asset_weights, matrix_of_return_values)\n",
    "    portfolio_means.append(statistic[0])\n",
    "    portfolio_standard_deviations.append(statistic[1])\n",
    "    portfolio_sharpe_ratios.append(statistic[2])\n"
   ]
  },
  {
   "cell_type": "code",
   "execution_count": 132,
   "id": "1aae9a54-dd8f-4180-9507-c8c733d82674",
   "metadata": {},
   "outputs": [
    {
     "data": {
      "text/plain": [
       "8965"
      ]
     },
     "execution_count": 132,
     "metadata": {},
     "output_type": "execute_result"
    }
   ],
   "source": [
    "index = np.array(portfolio_sharpe_ratios).argmax()\n",
    "index"
   ]
  },
  {
   "cell_type": "code",
   "execution_count": 133,
   "id": "9356b31c-84b5-45a3-be09-50def52eef4b",
   "metadata": {},
   "outputs": [
    {
     "data": {
      "text/plain": [
       "0.08491572729351196"
      ]
     },
     "execution_count": 133,
     "metadata": {},
     "output_type": "execute_result"
    }
   ],
   "source": [
    "portfolio_sharpe_ratios[index]"
   ]
  },
  {
   "cell_type": "code",
   "execution_count": 134,
   "id": "7402c3b5-3d81-4057-a1ae-23ab56cfe90e",
   "metadata": {},
   "outputs": [
    {
     "data": {
      "text/plain": [
       "0.0005278990138342031"
      ]
     },
     "execution_count": 134,
     "metadata": {},
     "output_type": "execute_result"
    }
   ],
   "source": [
    "portfolio_means[index]"
   ]
  },
  {
   "cell_type": "code",
   "execution_count": 135,
   "id": "c520e52e-4ba9-4775-8c35-907dbbe34310",
   "metadata": {},
   "outputs": [
    {
     "data": {
      "text/plain": [
       "0.006216740180644223"
      ]
     },
     "execution_count": 135,
     "metadata": {},
     "output_type": "execute_result"
    }
   ],
   "source": [
    "portfolio_standard_deviations[index]"
   ]
  },
  {
   "cell_type": "code",
   "execution_count": 136,
   "id": "30dac6ba-42fa-4101-bcb6-ea8ceaa2d5a7",
   "metadata": {},
   "outputs": [
    {
     "data": {
      "text/plain": [
       "array([0.33503926, 0.03036582, 0.59432312, 0.02004726, 0.02022455])"
      ]
     },
     "execution_count": 136,
     "metadata": {},
     "output_type": "execute_result"
    }
   ],
   "source": [
    "collection_of_random_asset_weights[index]"
   ]
  },
  {
   "cell_type": "code",
   "execution_count": 137,
   "id": "01f36d78-6f4c-42c6-868d-e12069dd5faa",
   "metadata": {},
   "outputs": [
    {
     "data": {
      "text/html": [
       "<div>\n",
       "<style scoped>\n",
       "    .dataframe tbody tr th:only-of-type {\n",
       "        vertical-align: middle;\n",
       "    }\n",
       "\n",
       "    .dataframe tbody tr th {\n",
       "        vertical-align: top;\n",
       "    }\n",
       "\n",
       "    .dataframe thead th {\n",
       "        text-align: right;\n",
       "    }\n",
       "</style>\n",
       "<table border=\"1\" class=\"dataframe\">\n",
       "  <thead>\n",
       "    <tr style=\"text-align: right;\">\n",
       "      <th></th>\n",
       "      <th>AAPL</th>\n",
       "      <th>TGT</th>\n",
       "      <th>BND</th>\n",
       "      <th>NVDA</th>\n",
       "      <th>F</th>\n",
       "    </tr>\n",
       "  </thead>\n",
       "  <tbody>\n",
       "    <tr>\n",
       "      <th>2012-12-31</th>\n",
       "      <td>0.335039</td>\n",
       "      <td>0.030366</td>\n",
       "      <td>0.594323</td>\n",
       "      <td>0.020047</td>\n",
       "      <td>0.020225</td>\n",
       "    </tr>\n",
       "  </tbody>\n",
       "</table>\n",
       "</div>"
      ],
      "text/plain": [
       "                AAPL       TGT       BND      NVDA         F\n",
       "2012-12-31  0.335039  0.030366  0.594323  0.020047  0.020225"
      ]
     },
     "execution_count": 137,
     "metadata": {},
     "output_type": "execute_result"
    }
   ],
   "source": [
    "last_date = df_3years.index[-1]\n",
    "result = pd.DataFrame()\n",
    "result.loc[last_date, df_3years.columns] = collection_of_random_asset_weights[index]\n",
    "result.columns = [\"AAPL\", \"TGT\", \"BND\", \"NVDA\", \"F\"]\n",
    "result"
   ]
  },
  {
   "cell_type": "code",
   "execution_count": 138,
   "id": "4a05add8-3512-42cc-880b-2a91b69423a2",
   "metadata": {},
   "outputs": [
    {
     "data": {
      "image/png": "[encoded data removed]",
      "text/plain": [
       "<Figure size 432x288 with 1 Axes>"
      ]
     },
     "metadata": {
      "needs_background": "light"
     },
     "output_type": "display_data"
    }
   ],
   "source": [
    "plt.plot(portfolio_standard_deviations, portfolio_means,'o', markersize = 3, color = 'lightskyblue') \n",
    "plt.show()"
   ]
  },
  {
   "cell_type": "code",
   "execution_count": null,
   "id": "6fc208d3-65f3-428f-849c-8b2ce1a7c9dc",
   "metadata": {},
   "outputs": [],
   "source": []
  },
  {
   "cell_type": "code",
   "execution_count": null,
   "id": "998a79dc-689b-48de-b035-05355d9e422f",
   "metadata": {},
   "outputs": [],
   "source": []
  }
 ],
 "metadata": {
  "kernelspec": {
   "display_name": "Python 3",
   "language": "python",
   "name": "python3"
  },
  "language_info": {
   "codemirror_mode": {
    "name": "ipython",
    "version": 3
   },
   "file_extension": ".py",
   "mimetype": "text/x-python",
   "name": "python",
   "nbconvert_exporter": "python",
   "pygments_lexer": "ipython3",
   "version": "3.8.8"
  }
 },
 "nbformat": 4,
 "nbformat_minor": 5
}
